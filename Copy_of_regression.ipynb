{
  "nbformat": 4,
  "nbformat_minor": 0,
  "metadata": {
    "colab": {
      "provenance": [],
      "authorship_tag": "ABX9TyOwGFZiTEsCLXqoaoMGOEcf",
      "include_colab_link": true
    },
    "kernelspec": {
      "name": "python3",
      "display_name": "Python 3"
    },
    "language_info": {
      "name": "python"
    }
  },
  "cells": [
    {
      "cell_type": "markdown",
      "metadata": {
        "id": "view-in-github",
        "colab_type": "text"
      },
      "source": [
        "<a href=\"https://colab.research.google.com/github/pwmuskan/pw/blob/main/Copy_of_regression.ipynb\" target=\"_parent\"><img src=\"https://colab.research.google.com/assets/colab-badge.svg\" alt=\"Open In Colab\"/></a>"
      ]
    },
    {
      "cell_type": "markdown",
      "source": [
        "1. What is Simple Linear Regression?\n",
        "\n",
        "It attempts to determine the strength and characteristics of the relationship between one independent variable(X) and other dependent variable(Y)\n",
        "\n",
        "Independent variable (X) – Also known as the predictor or explanatory variable.\n",
        "\n",
        "Dependent variable (Y) – Also known as the response or target variable."
      ],
      "metadata": {
        "id": "IOOvMzd9U14F"
      }
    },
    {
      "cell_type": "markdown",
      "source": [
        "2.  What are the key assumptions of Simple Linear Regression?\n",
        "\n",
        "Linearity: The relationship between X and Y should be linear.\n",
        "\n",
        "Independence: Observations should be independent of each other.\n",
        "\n",
        "Homoscedasticity: Constant variance of residuals (errors).\n",
        "\n",
        "Normality of Residuals: The residuals should be normally distributed."
      ],
      "metadata": {
        "id": "dpzuGBFiVjph"
      }
    },
    {
      "cell_type": "markdown",
      "source": [
        "3. What does the coefficient m represent in the equation Y=mX+c?\n",
        "\n",
        "The coefficient\n",
        "𝑚\n",
        "m represents the rate of change of Y with respect to X. It tells us how much\n",
        "𝑌 changes for a one-unit increase in\n",
        "𝑋\n",
        ".\n",
        "\n",
        "Interpretation:\n",
        "\n",
        "If\n",
        "m>0 → Positive relationship (as\n",
        "𝑋\n",
        " increases,\n",
        "𝑌\n",
        "also increases).\n",
        "\n",
        "If\n",
        "m<0 → Negative relationship (as\n",
        "𝑋\n",
        " increases,\n",
        "𝑌\n",
        " decreases).\n",
        "\n",
        "If\n",
        "m=0 → No relationship (the line is horizontal, meaning\n",
        "𝑌\n",
        " is constant for all values of\n",
        "𝑋\n",
        ")."
      ],
      "metadata": {
        "id": "OpGUpQy2V0dY"
      }
    },
    {
      "cell_type": "markdown",
      "source": [
        "4. What does the intercept c represent in the equation Y=mX+c?\n",
        "\n",
        "The intercept\n",
        "𝑐\n",
        "c represents the value of\n",
        "𝑌\n",
        " when\n",
        "𝑋\n",
        "=\n",
        "0\n",
        ". It is the point where the regression line crosses the Y-axis.\n",
        "\n",
        "Interpretation:\n",
        "\n",
        "It shows the baseline value of\n",
        "𝑌\n",
        " when no independent variable is present.\n",
        "\n",
        "It may not always have a real-world meaning (especially when\n",
        "𝑋\n",
        "=\n",
        "0\n",
        " is not a possible or relevant value).\n"
      ],
      "metadata": {
        "id": "RO8j4CQsWZ3k"
      }
    },
    {
      "cell_type": "markdown",
      "source": [
        " 5. How do we calculate the slope m in Simple Linear Regression?\n",
        "\n",
        " The formula for calculating\n",
        "𝑚\n",
        "m (also called the regression coefficient) is:\n",
        "\n",
        "m=\n",
        "n∑(X\n",
        "i\n",
        "​\n",
        " Y\n",
        "i\n",
        "​\n",
        " )−∑X\n",
        "i\n",
        "​\n",
        " ∑Y\n",
        "i/n∑X\n",
        "i\n",
        "2\n",
        "​\n",
        " −(∑X\n",
        "i\n",
        "​\n",
        " )\n",
        "2\n",
        "\n",
        "where:\n",
        "\n",
        "n = Number of data points\n",
        "\n",
        "X\n",
        "i\n",
        "​\n",
        " ,Y\n",
        "i\n",
        "​\n",
        "  = Individual data points\n",
        "\n",
        "∑X\n",
        "i\n",
        "​ = Sum of all\n",
        "X values\n",
        "\n",
        "∑Y\n",
        "i\n",
        "​= Sum of all\n",
        "Y values\n",
        "\n",
        "∑X\n",
        "i\n",
        "​\n",
        " Y\n",
        "i\n",
        "​\n",
        "  = Sum of the product of corresponding\n",
        "X and\n",
        "Y values\n",
        "\n",
        "∑X\n",
        "i\n",
        "2\n",
        "  = Sum of the squares of\n",
        "X values"
      ],
      "metadata": {
        "id": "NM0-nz7NWyYh"
      }
    },
    {
      "cell_type": "markdown",
      "source": [
        "6. What is the purpose of the least squares method in Simple Linear Regression?\n",
        "\n",
        "The Least Squares Method is used in Simple Linear Regression to find the best-fitting line that minimizes the difference between the actual data points and the predicted values.\n",
        "\n",
        "In regression, we aim to model the relationship between independent variable (\n",
        "𝑋\n",
        ") and dependent variable (\n",
        "𝑌\n",
        "). However, the data points do not always lie perfectly on a straight line.\n",
        "\n",
        "The Least Squares Method helps us find the optimal slope (\n",
        "𝑚\n",
        ") and intercept (\n",
        "𝑐\n",
        ") by minimizing the sum of squared errors (residuals)."
      ],
      "metadata": {
        "id": "sYvgSU1MYgml"
      }
    },
    {
      "cell_type": "markdown",
      "source": [
        "7.  How is the coefficient of determination (R²) interpreted in Simple Linear Regression?\n",
        "\n",
        "In simple linear regression, the coefficient of determination, denoted as R², quantifies the proportion of variance in the dependent variable that is predictable from the independent variable. An R² value ranges between 0 and 1, where a value closer to 1 indicates that a greater proportion of variance is accounted for by the model, signifying a stronger explanatory power. Conversely, an R² value near 0 suggests that the model fails to explain much of the variance in the dependent variable.\n",
        "\n",
        "Mathematically, R² is calculated as the ratio of the regression sum of squares (SSR) to the total sum of squares (SSTO):\n",
        "\n",
        "R\n",
        "2\n",
        " =\n",
        "SSR/SSTO\n",
        "​\n",
        " =1−\n",
        "SSE/SSTO\n",
        "​\n",
        "\n",
        "\n",
        "Here, SSE represents the error sum of squares."
      ],
      "metadata": {
        "id": "otWiJ_V3mLr6"
      }
    },
    {
      "cell_type": "markdown",
      "source": [
        "8. What is Multiple Linear Regression?\n",
        "\n",
        "Multiple Linear Regression (MLR) is a statistical technique that models the relationship between a dependent variable and two or more independent variables by fitting a linear equation to observed data.\n",
        "\n",
        " This method extends simple linear regression, which involves only one independent variable, to accommodate multiple predictors.\n",
        "\n",
        "\n",
        "The general form of the MLR equation is:\n",
        "\n",
        "𝑦\n",
        "=\n",
        "𝛽\n",
        "0\n",
        "+\n",
        "𝛽\n",
        "1\n",
        "𝑥\n",
        "1\n",
        "+\n",
        "𝛽\n",
        "2\n",
        "𝑥\n",
        "2\n",
        "+\n",
        "⋯\n",
        "+\n",
        "𝛽\n",
        "𝑝\n",
        "𝑥\n",
        "𝑝\n",
        "+\n",
        "𝜖"
      ],
      "metadata": {
        "id": "GvtYndMJreJq"
      }
    },
    {
      "cell_type": "markdown",
      "source": [
        "9. What is the main difference between Simple and Multiple Linear Regression?\n",
        "\n",
        "The primary distinction between simple and multiple linear regression lies in the number of independent variables utilized to predict the dependent variable. In simple linear regression, a single independent variable is used to predict the outcome of the dependent variable. Conversely, multiple linear regression employs two or more independent variables to forecast the dependent variable."
      ],
      "metadata": {
        "id": "VZWkj_fKsSkm"
      }
    },
    {
      "cell_type": "markdown",
      "source": [
        "10. What are the key assumptions of Multiple Linear Regression?\n",
        "\n",
        "Linearity: There exists a linear relationship between the dependent variable and each of the independent variables. This can be assessed by examining scatterplots of the dependent variable against each predictor.\n",
        "\n",
        "No Multicollinearity: The independent variables are not highly correlated with each other. High multicollinearity can inflate the variance of coefficient estimates and make the model unstable. Variance Inflation Factor (VIF) is commonly used to detect multicollinearity.\n",
        "\n",
        "Independence of Errors: The residuals (errors) are independent of each other. This assumption is particularly important in time series data, where observations may be correlated over time. Durbin-Watson statistic is often used to test for autocorrelation in residuals.\n",
        "\n",
        "Homoscedasticity: The residuals have constant variance at every level of the independent variables. Plotting residuals versus fitted values can help detect heteroscedasticity, which appears as a systematic pattern in the spread of residuals.\n",
        "\n",
        "Normality of Errors: The residuals are normally distributed. This can be checked using a Q-Q plot or statistical tests like the Shapiro-Wilk test. Normality is essential for constructing confidence intervals and conducting hypothesis tests."
      ],
      "metadata": {
        "id": "kyFiPg64s6h_"
      }
    },
    {
      "cell_type": "markdown",
      "source": [
        "11. What is heteroscedasticity, and how does it affect the results of a Multiple Linear Regression model?\n",
        "\n",
        "Heteroscedasticity refers to a condition in regression analysis where the variance of the residuals (errors) is not constant across all levels of the independent variables. In other words, as the value of an independent variable changes, the spread or dispersion of the residuals changes as well. This violates one of the key assumptions of multiple linear regression, which assumes homoscedasticity—that the residuals have constant variance.\n",
        "\n",
        "**Effects on Multiple Linear Regression:**\n",
        "\n",
        "Inefficient Estimates: Heteroscedasticity can lead to inefficient estimates of the regression coefficients. While the coefficients themselves remain unbiased, their standard errors become unreliable, which can affect hypothesis testing and the construction of confidence intervals.\n",
        "\n",
        "Invalid Statistical Tests: The presence of heteroscedasticity can result in p-values that are smaller than they should be. This occurs because heteroscedasticity increases the variance of the coefficient estimates, but standard regression techniques may not account for this increase. Consequently, this can lead to incorrect conclusions about the significance of predictors."
      ],
      "metadata": {
        "id": "VnMwpomEtYqH"
      }
    },
    {
      "cell_type": "markdown",
      "source": [
        "12. How can you improve a Multiple Linear Regression model with high multicollinearity?\n",
        "\n",
        "To improve a model affected by multicollinearity, consider the following strategies:\n",
        "\n",
        "Increase Sample Size: Expanding the dataset can mitigate multicollinearity by providing more information, leading to more stable coefficient estimates.\n",
        "\n",
        "Center the Variables: Subtracting the mean from each predictor (centering) can reduce multicollinearity, especially when interaction terms are included in the model.\n",
        "\n",
        "Remove Highly Correlated Predictors: Identifying and excluding one of the highly correlated variables can simplify the model and alleviate multicollinearity issues.\n",
        "\n",
        "Combine Variables: Creating composite variables through techniques like Partial Least Squares (PLS) can consolidate information from correlated predictors, reducing multicollinearity.\n",
        "\n",
        "Use Regularization Methods: Applying techniques such as Ridge Regression or LASSO adds a penalty to the regression, shrinking coefficient estimates and effectively handling multicollinearity."
      ],
      "metadata": {
        "id": "ytBM_ru6t7T1"
      }
    },
    {
      "cell_type": "markdown",
      "source": [
        "13. What are some common techniques for transforming categorical variables for use in regression models?\n",
        "\n",
        "Dummy Coding (One-Hot Encoding): This method converts each category into a separate binary variable (dummy variable) that takes a value of 1 if the observation belongs to that category and 0 otherwise. For a categorical variable with\n",
        "𝑘\n",
        " levels,\n",
        "𝑘\n",
        "−\n",
        "1\n",
        " dummy variables are created to avoid multicollinearity.\n",
        "\n",
        "Effect Coding: Similar to dummy coding, effect coding represents categories using binary variables. However, in effect coding, the reference category is assigned -1 instead of 0. This allows for comparing each category's effect to the overall mean rather than a specific reference category.\n",
        "\n",
        "Ordinal Encoding: Applicable when categorical variables have a natural order (e.g., low, medium, high). Each category is assigned a numerical value corresponding to its order. While simple, this method assumes equal spacing between categories, which may not always be appropriate.\n",
        "\n",
        "Polynomial Coding: Used for ordinal categorical variables, polynomial coding captures non-linear relationships by assigning orthogonal polynomial contrasts to the categories. This method is beneficial when the effect of the categorical variable is expected to follow a polynomial trend.\n",
        "\n",
        "Contrast Coding: A general term for coding schemes that compare specific groups or combinations of groups. Examples include simple coding, repeated coding, and others, each tailored to test particular hypotheses about group differences."
      ],
      "metadata": {
        "id": "8LsSIQWVvbfG"
      }
    },
    {
      "cell_type": "markdown",
      "source": [
        "14. What is the role of interaction terms in Multiple Linear Regression?\n",
        "\n",
        "In multiple linear regression, interaction terms are used to model the combined effect of two or more independent variables on the dependent variable, beyond their individual contributions. An interaction occurs when the effect of one predictor variable on the outcome variable depends on the level of another predictor variable.\n",
        "\n",
        "Including interaction terms allows the regression model to capture more complex relationships between predictors. For instance, if you're studying the impact of study time and tutoring on student performance, an interaction term between study time and tutoring can reveal whether the effectiveness of study time varies depending on the presence of tutoring. This enables a more nuanced understanding of how variables work together to influence the outcome."
      ],
      "metadata": {
        "id": "-skGC3-pwit1"
      }
    },
    {
      "cell_type": "markdown",
      "source": [
        "15.  How can the interpretation of intercept differ between Simple and Multiple Linear Regression?\n",
        "\n",
        "In both simple and multiple linear regression models, the intercept represents the expected value of the dependent variable when all independent variables are equal to zero. However, the context and interpretability of the intercept can differ between the two models.\n",
        "\n",
        "Simple Linear Regression:\n",
        "\n",
        "In a simple linear regression model with one predictor variable\n",
        "X, the intercept\n",
        "β\n",
        "0\n",
        "​ is the expected value of the dependent variable\n",
        "Y when\n",
        "X=0. Mathematically, the model is expressed as:\n",
        "\n",
        "Y=β\n",
        "0\n",
        "​\n",
        " +β\n",
        "1\n",
        "​\n",
        " X+ε\n",
        "\n",
        " In a multiple linear regression model with multiple predictor variables\n",
        "X\n",
        "1\n",
        "​\n",
        " ,X\n",
        "2\n",
        "​\n",
        " ,…,X\n",
        "n\n",
        "​\n",
        " , the intercept\n",
        "β\n",
        "0\n",
        "​\n",
        " represents the expected value of\n",
        "Y when all predictors are zero:\n",
        "\n",
        "Y=β\n",
        "0\n",
        "​\n",
        " +β\n",
        "1\n",
        "​\n",
        " X\n",
        "1\n",
        "​\n",
        " +β\n",
        "2\n",
        "​\n",
        " X\n",
        "2\n",
        "​\n",
        " +⋯+β\n",
        "n\n",
        "​\n",
        " X\n",
        "n\n",
        "​\n",
        " +ε"
      ],
      "metadata": {
        "id": "uIKt2VwjytaM"
      }
    },
    {
      "cell_type": "markdown",
      "source": [
        "16. What is the significance of the slope in regression analysis, and how does it affect predictions?\n",
        "\n",
        "In regression analysis, the slope of the regression line quantifies the relationship between the independent variable(s) and the dependent variable. Specifically, it represents the expected change in the dependent variable for a one-unit increase in the independent variable, assuming all other variables remain constant.\n",
        "\n",
        "Significance of the Slope:\n",
        "\n",
        "Direction of Association: A positive slope indicates a direct relationship, meaning that as the independent variable increases, the dependent variable also increases. Conversely, a negative slope signifies an inverse relationship, where an increase in the independent variable corresponds to a decrease in the dependent variable.\n",
        "\n",
        "Magnitude of Change: The absolute value of the slope reflects the rate of change in the dependent variable per unit change in the independent variable. A larger absolute value denotes a steeper relationship, indicating a more substantial impact of the independent variable on the dependent variable.\n",
        "\n",
        "Impact on Predictions:\n",
        "\n",
        "The slope is integral to the regression equation, typically expressed as:\n",
        "\n",
        "Y\n",
        "^\n",
        " =β\n",
        "0\n",
        "​\n",
        " +β\n",
        "1\n",
        "​\n",
        " X\n",
        "\n",
        "Here,\n",
        "Y\n",
        "^\n",
        "  is the predicted value of the dependent variable,\n",
        "β 0\n",
        " is the intercept,\n",
        "β\n",
        "1\n",
        "  is the slope, and\n",
        "X is the independent variable.\n",
        "\n",
        "When making predictions:\n",
        "\n",
        "Positive Slope: An increase in\n",
        "X leads to an increase in\n",
        "Y\n",
        "^\n",
        " .\n",
        "\n",
        "Negative Slope: An increase in\n",
        "X results in a decrease in\n",
        "Y\n",
        "^\n",
        " .\n",
        "\n",
        "The magnitude of the slope determines the sensitivity of the predictions to changes in the independent variable. A steeper slope implies that small changes in\n",
        "X will result in larger changes in\n",
        "Y\n",
        "^\n",
        " , while a gentler slope suggests that\n",
        "Y\n",
        "^\n",
        "  is less responsive to variations in\n",
        "X.\n",
        "\n",
        "Understanding the slope's significance is crucial for interpreting the strength and nature of the relationship between variables in regression analysis, as well as for making accurate predictions based on the model."
      ],
      "metadata": {
        "id": "Th9bg8PProbW"
      }
    },
    {
      "cell_type": "markdown",
      "source": [
        "17. How does the intercept in a regression model provide context for the relationship between variables?\n",
        "\n",
        "In regression analysis, the intercept (often denoted as\n",
        "𝛽\n",
        "0\n",
        "​) represents the expected value of the dependent variable (\n",
        "𝑌\n",
        ") when all independent variables (\n",
        "𝑋\n",
        ") are equal to zero. This parameter provides a baseline from which the effects of the independent variables are measured.\n",
        "\n",
        "Contextual Significance of the Intercept:\n",
        "\n",
        "Meaningfulness: The interpretability of the intercept depends on whether a zero value for the independent variables is within the scope of the data and has practical relevance. For instance, if\n",
        "𝑋\n",
        "represents temperature in degrees Celsius, an intercept would indicate the expected value of\n",
        "𝑌 at 0°C. However, if\n",
        "𝑋\n",
        "represents a variable like age, where a value of zero may not be observed or meaningful, the intercept becomes less interpretable.\n",
        "\n",
        "Baseline Level: The intercept serves as a baseline, providing the starting point for the regression line on the Y-axis. It reflects the portion of the dependent variable that is not influenced by the independent variables included in the model.\n",
        "\n",
        "Considerations:\n",
        "\n",
        "Centering Variables: When zero is not a meaningful value for an independent variable, centering the variable by subtracting its mean can make the intercept more interpretable. This adjustment shifts the reference point, allowing the intercept to represent the expected value of\n",
        "𝑌\n",
        " when\n",
        "𝑋\n",
        " is at its mean.\n",
        "\n",
        "Multiple Regression: In models with multiple predictors, the intercept represents the expected value of\n",
        "𝑌\n",
        " when all\n",
        "𝑋\n",
        " variables are zero simultaneously. If this combination is unrealistic, the intercept may lack practical interpretation.\n",
        "\n",
        "Understanding the role of the intercept is crucial for accurately interpreting regression models and the relationships between variables."
      ],
      "metadata": {
        "id": "gh_i5pgQsgnu"
      }
    },
    {
      "cell_type": "markdown",
      "source": [
        "18. What are the limitations of using R² as a sole measure of model performance?\n",
        "\n",
        "Linearity Assumption: R² presumes a linear relationship between the independent and dependent variables. If the actual relationship is nonlinear, R² may not accurately reflect the model's explanatory power.\n",
        "\n",
        "Sensitivity to Outliers: Outliers can disproportionately influence R², leading to misleadingly high or low values that do not accurately represent the model's fit for the majority of the data.\n",
        "\n",
        "Correlation Does Not Imply Causation: A high R² indicates a strong association but does not establish a causal relationship between variables. Other statistical analyses are necessary to infer causation.\n",
        "\n",
        "Addition of Irrelevant Variables: Including additional independent variables, even if they are irrelevant, can artificially inflate R², giving a false impression of improved model performance.\n",
        "\n",
        "Lack of Predictive Accuracy: A high R² does not guarantee that the model will make accurate predictions on new, unseen data. The model may fit the training data well but perform poorly in practice."
      ],
      "metadata": {
        "id": "eLl7uJLrtU5v"
      }
    },
    {
      "cell_type": "markdown",
      "source": [
        "19.  How would you interpret a large standard error for a regression coefficient?\n",
        "\n",
        "In regression analysis, a large standard error for a regression coefficient indicates that the estimate of that coefficient is imprecise. This imprecision suggests that the corresponding predictor variable may not have a reliable or significant association with the dependent variable.\n",
        "\n",
        "Implications of a Large Standard Error:\n",
        "\n",
        "Statistical Significance: A large standard error relative to the coefficient's magnitude can lead to a low t-statistic, implying that the coefficient may not be statistically significant. This means we cannot confidently assert that the predictor variable has an effect on the dependent variable.\n",
        "\n",
        "Confidence Intervals: Larger standard errors result in wider confidence intervals for the coefficient, indicating greater uncertainty about the true value of the parameter.\n",
        "\n",
        "Potential Causes:\n",
        "\n",
        "Multicollinearity: High correlation among predictor variables can inflate standard errors, making it difficult to isolate the individual effect of each predictor.\n",
        "WIKIPEDIA\n",
        "\n",
        "Insufficient Data: A small sample size or limited variability in the data can lead to large standard errors, as there is less information available to accurately estimate the coefficient.\n",
        "\n",
        "Model Specification: Omitting relevant variables or including irrelevant ones can affect the precision of coefficient estimates, potentially increasing standard errors."
      ],
      "metadata": {
        "id": "zxXMrXUltl-Q"
      }
    },
    {
      "cell_type": "markdown",
      "source": [
        "20.  How can heteroscedasticity be identified in residual plots, and why is it important to address it?\n",
        "\n",
        "A common method to detect heteroscedasticity is by examining a residuals versus fitted values plot. In this scatter plot, the residuals are plotted on the y-axis, and the fitted (predicted) values are on the x-axis. In the absence of heteroscedasticity (a condition known as homoscedasticity), the residuals should be randomly dispersed around the horizontal axis, forming a horizontal band. However, if heteroscedasticity is present, the plot may exhibit patterns such as:\n",
        "\n",
        "Fan or Cone Shape: The spread of the residuals increases or decreases with the fitted values, resembling a fan or cone.\n",
        "\n",
        "Systematic Patterns: Any systematic structure or pattern in the spread of residuals indicates non-constant variance.\n",
        "\n",
        "Ignoring heteroscedasticity can lead to several issues:\n",
        "\n",
        "Inefficient Estimates: While heteroscedasticity does not cause bias in the coefficient estimates, it reduces their efficiency, leading to less precise estimates.\n",
        "\n",
        "Invalid Inferences: Standard errors of the coefficients may be underestimated or overestimated, resulting in misleading p-values and confidence intervals. This misestimation can cause incorrect conclusions about the significance of predictors.\n",
        "\n",
        "Reliability of Predictions: The presence of heteroscedasticity can affect the reliability of the model's predictions, especially for values of the independent variables where the variance of the residuals is large."
      ],
      "metadata": {
        "id": "ZX8TGE_-t6xm"
      }
    },
    {
      "cell_type": "markdown",
      "source": [
        "21.  What does it mean if a Multiple Linear Regression model has a high R² but low adjusted R²?\n",
        "\n",
        "In multiple linear regression, R² measures the proportion of variance in the dependent variable explained by the independent variables. However, R² always increases or remains the same when additional predictors are added, regardless of their relevance. To account for this, Adjusted R² adjusts for the number of predictors in the model, providing a more accurate measure of model fit.\n",
        "\n",
        "If a model exhibits a high R² but a low Adjusted R², it suggests that the added predictors do not contribute meaningfully to explaining the variance in the dependent variable. This discrepancy indicates that the model may include irrelevant or redundant predictors, leading to overfitting. Overfitting occurs when a model captures noise rather than the underlying data pattern, resulting in poor generalization to new data.\n",
        "\n",
        "To address this issue, consider simplifying the model by removing predictors that do not significantly contribute to explaining the variance in the dependent variable. This approach can improve the model's generalizability and provide a more accurate representation of the underlying relationships."
      ],
      "metadata": {
        "id": "GXlNECJouVIu"
      }
    },
    {
      "cell_type": "markdown",
      "source": [
        "22. Why is it important to scale variables in Multiple Linear Regression?\n",
        "\n",
        "In multiple linear regression, scaling (standardizing) variables is important for several reasons:\n",
        "\n",
        "Interpretation of Coefficients: Scaling can make it easier to interpret regression coefficients, especially when predictor variables are on different scales. By standardizing variables, the coefficients represent the change in the dependent variable for a one standard deviation change in the predictor, facilitating comparison across predictors.\n",
        "\n",
        "Numerical Stability: When predictor variables have vastly different scales, it can lead to numerical instability in the computation of regression coefficients. Scaling helps mitigate this issue by bringing all variables to a comparable range.\n",
        "\n",
        "Multicollinearity Detection: Scaling does not affect the detection of multicollinearity, as the Variance Inflation Factor (VIF) is invariant to the scaling of variables.\n"
      ],
      "metadata": {
        "id": "Oah1wvm6aI9c"
      }
    },
    {
      "cell_type": "markdown",
      "source": [
        "23.  What is polynomial regression?\n",
        "\n",
        "Polynomial regression is a form of regression analysis that models the relationship between the independent variable\n",
        "𝑥\n",
        "and the dependent variable\n",
        "𝑦 as an\n",
        "𝑛\n",
        "th degree polynomial. This approach is particularly useful when the data exhibits a nonlinear relationship that cannot be adequately captured by a simple linear model."
      ],
      "metadata": {
        "id": "QJXkWu0nanEs"
      }
    },
    {
      "cell_type": "markdown",
      "source": [
        "24.  How does polynomial regression differ from linear regression?\n",
        "\n",
        "In regression analysis, both linear and polynomial regression aim to model the relationship between independent and dependent variables, but they differ in how they represent this relationship.\n",
        "\n",
        "Model Complexity:\n",
        "\n",
        "Linear Regression: Assumes a straight-line relationship between variables.\n",
        "\n",
        "Polynomial Regression: Captures more complex, nonlinear relationships by including higher-degree terms of the independent variable.\n",
        "\n",
        "Flexibility:\n",
        "\n",
        "Linear Regression: Limited to modeling linear trends.\n",
        "\n",
        "Polynomial Regression: More flexible, capable of fitting a wider range of data patterns, including curves.\n",
        "\n",
        "Risk of Overfitting:\n",
        "\n",
        "Linear Regression: Less prone to overfitting due to its simplicity.\n",
        "\n",
        "Polynomial Regression: Higher risk of overfitting, especially with high-degree polynomials, as the model may capture noise in the data rather than the underlying trend."
      ],
      "metadata": {
        "id": "xhHbfvOybCIG"
      }
    },
    {
      "cell_type": "markdown",
      "source": [
        "25. When is polynomial regression used?\n",
        "\n",
        "Polynomial regression is employed when the relationship between the independent and dependent variables is nonlinear and cannot be adequately captured by a simple linear model.\n",
        "\n",
        "Finance: Modeling stock price movements and market trends that exhibit nonlinear patterns.\n",
        "\n",
        "Healthcare: Predicting growth patterns, such as tumor progression or the spread of diseases within a population.\n",
        "\n",
        "Manufacturing: Analyzing system performance curves to optimize machine operations and predict material behavior under varying conditions.\n",
        "\n",
        "Environmental Science: Studying the relationship between environmental factors and ecological responses, such as the effect of temperature on crop yields.\n",
        "\n",
        "Medicine: Modeling the concentration of drugs in the body over time to understand pharmacokinetics.\n",
        "\n",
        "Epidemiology: Estimating the death toll or infection rates during disease outbreaks by fitting curves to the data.\n"
      ],
      "metadata": {
        "id": "RsvsfGWHcEiW"
      }
    },
    {
      "cell_type": "markdown",
      "source": [
        "26. What is the general equation for polynomial regression?\n",
        "\n",
        "In polynomial regression, the relationship between the dependent variable\n",
        "y and the independent variable\n",
        "x is modeled as an\n",
        "n-th degree polynomial. The general form of the polynomial regression equation is:\n",
        "\n",
        "y=β\n",
        "0\n",
        "​\n",
        " +β\n",
        "1\n",
        "​\n",
        " x+β\n",
        "2\n",
        "​\n",
        " x\n",
        "2\n",
        " +β\n",
        "3\n",
        "​\n",
        " x\n",
        "3\n",
        " +⋯+β\n",
        "n\n",
        "​\n",
        " x\n",
        "n\n",
        " +ε\n",
        "\n",
        "Where:\n",
        "\n",
        "y: Dependent variable\n",
        "\n",
        "x: Independent variable\n",
        "\n",
        "β\n",
        "0\n",
        "​\n",
        " ,β\n",
        "1\n",
        "​\n",
        " ,…,β\n",
        "n\n",
        "​\n",
        " : Coefficients of the polynomial terms\n",
        "\n",
        "ε: Error term"
      ],
      "metadata": {
        "id": "Hp9Fk8ebdR1D"
      }
    },
    {
      "cell_type": "markdown",
      "source": [
        "27. Can polynomial regression be applied to multiple variables?\n",
        "\n",
        "Yes, polynomial regression can be extended to handle multiple independent variables, a technique known as multivariate polynomial regression. This approach models the relationship between a dependent variable and multiple independent variables by incorporating polynomial terms of the predictors, allowing for the capture of complex, nonlinear interactions among them."
      ],
      "metadata": {
        "id": "pKAiyueld-uU"
      }
    },
    {
      "cell_type": "markdown",
      "source": [
        "28. What are the limitations of polynomial regression?\n",
        "\n",
        "Overfitting: As the degree of the polynomial increases, the model can become overly complex, capturing noise in the data rather than the underlying trend. This leads to poor generalization to new data.\n",
        "\n",
        "Extrapolation Issues: Polynomial models can behave unpredictably outside the range of the observed data, making them unreliable for extrapolation.\n",
        "\n",
        "Sensitivity to Outliers: Polynomials are sensitive to outliers; even a single outlier can significantly distort the model, leading to misleading results.\n",
        "\n",
        "Multicollinearity: Including higher-degree polynomial terms can introduce multicollinearity, where predictor variables become highly correlated. This can destabilize the estimation of coefficients and affect the model's interpretability.\n",
        "\n",
        "Interpretability: As the polynomial degree increases, the model becomes more complex, making it difficult to interpret the influence of individual predictors on the response variable."
      ],
      "metadata": {
        "id": "gfuSFyTpeMrL"
      }
    },
    {
      "cell_type": "markdown",
      "source": [
        "29. What methods can be used to evaluate model fit when selecting the degree of a polynomial?\n",
        "\n",
        "Cross-Validation: This technique involves partitioning the dataset into multiple subsets, training the model on some subsets, and testing it on the remaining ones. By assessing the model's performance across different subsets, cross-validation helps identify the polynomial degree that minimizes prediction error and reduces overfitting.\n",
        "\n",
        "Adjusted R-squared (\n",
        "R\n",
        "adj\n",
        "2\n",
        "​\n",
        " ): Unlike the regular\n",
        "R\n",
        "2 , which can increase with the addition of more predictors,\n",
        "R\n",
        "adj\n",
        "2\n",
        "​ adjusts for the number of predictors in the model. A higher\n",
        "R\n",
        "adj\n",
        "2\n",
        "  indicates a better fit, accounting for model complexity.\n",
        "\n",
        "Residual Analysis: Examining residual plots can reveal patterns indicating model inadequacies. A well-fitting model should have residuals randomly scattered around zero without discernible patterns. Systematic patterns may suggest the need for a different model or transformation."
      ],
      "metadata": {
        "id": "LgJEjDLbekFs"
      }
    },
    {
      "cell_type": "markdown",
      "source": [
        "30. Why is visualization important in polynomial regression?\n",
        "\n",
        "Assessing Model Fit: By plotting the data alongside the polynomial regression curve, you can visually evaluate how well the model captures the underlying trend. This helps in identifying whether the chosen polynomial degree appropriately represents the data's complexity.\n",
        "\n",
        "Detecting Overfitting: Visualization allows you to observe if the polynomial curve excessively oscillates or closely follows every data point, indicating overfitting. Such patterns suggest that the model may be too complex and might not generalize well to new data.\n",
        "\n",
        "Identifying Residual Patterns: Plotting residuals (the differences between observed and predicted values) can reveal systematic patterns or randomness. Randomly scattered residuals suggest a good fit, while patterns may indicate model inadequacies or the need for a different modeling approach.\n",
        "\n",
        "Evaluating Polynomial Degree: Visualization helps in determining the appropriate polynomial degree by showing how the model's complexity affects the fit. It aids in balancing underfitting and overfitting, ensuring the model captures the data's structure without unnecessary complexity."
      ],
      "metadata": {
        "id": "dIhzyRhpfr86"
      }
    },
    {
      "cell_type": "markdown",
      "source": [
        "31.  How is polynomial regression implemented in Python?\n",
        "\n",
        "Import Necessary Libraries:"
      ],
      "metadata": {
        "id": "YWONSvg4g8pT"
      }
    },
    {
      "cell_type": "code",
      "source": [
        "import numpy as np\n",
        "import matplotlib.pyplot as plt\n",
        "from sklearn.preprocessing import PolynomialFeatures\n",
        "from sklearn.linear_model import LinearRegression"
      ],
      "metadata": {
        "id": "sRa78BX8hMvr"
      },
      "execution_count": null,
      "outputs": []
    },
    {
      "cell_type": "markdown",
      "source": [
        "Prepare the Data:"
      ],
      "metadata": {
        "id": "HqBGd1cZhQJe"
      }
    },
    {
      "cell_type": "code",
      "source": [
        "X = np.array([1, 2, 3, 4, 5]).reshape(-1, 1)\n",
        "y = np.array([1, 4, 9, 16, 25])"
      ],
      "metadata": {
        "id": "-NrHnYnOhTFQ"
      },
      "execution_count": null,
      "outputs": []
    },
    {
      "cell_type": "markdown",
      "source": [
        "Transform Features:"
      ],
      "metadata": {
        "id": "4h273fBqhWu8"
      }
    },
    {
      "cell_type": "code",
      "source": [
        "poly = PolynomialFeatures(degree=2, include_bias=False)\n",
        "X_poly = poly.fit_transform(X)"
      ],
      "metadata": {
        "id": "GNeL4H3qhbE1"
      },
      "execution_count": null,
      "outputs": []
    },
    {
      "cell_type": "markdown",
      "source": [
        "Fit the Model:"
      ],
      "metadata": {
        "id": "DzsqOI_phfU3"
      }
    },
    {
      "cell_type": "code",
      "source": [
        "model = LinearRegression()\n",
        "model.fit(X_poly, y)"
      ],
      "metadata": {
        "id": "lrhwvHxjhiXW",
        "colab": {
          "base_uri": "https://localhost:8080/",
          "height": 80
        },
        "outputId": "0dc5c44f-6b3a-46d3-e5d0-9dbec4ae2807"
      },
      "execution_count": null,
      "outputs": [
        {
          "output_type": "execute_result",
          "data": {
            "text/plain": [
              "LinearRegression()"
            ],
            "text/html": [
              "<style>#sk-container-id-1 {\n",
              "  /* Definition of color scheme common for light and dark mode */\n",
              "  --sklearn-color-text: #000;\n",
              "  --sklearn-color-text-muted: #666;\n",
              "  --sklearn-color-line: gray;\n",
              "  /* Definition of color scheme for unfitted estimators */\n",
              "  --sklearn-color-unfitted-level-0: #fff5e6;\n",
              "  --sklearn-color-unfitted-level-1: #f6e4d2;\n",
              "  --sklearn-color-unfitted-level-2: #ffe0b3;\n",
              "  --sklearn-color-unfitted-level-3: chocolate;\n",
              "  /* Definition of color scheme for fitted estimators */\n",
              "  --sklearn-color-fitted-level-0: #f0f8ff;\n",
              "  --sklearn-color-fitted-level-1: #d4ebff;\n",
              "  --sklearn-color-fitted-level-2: #b3dbfd;\n",
              "  --sklearn-color-fitted-level-3: cornflowerblue;\n",
              "\n",
              "  /* Specific color for light theme */\n",
              "  --sklearn-color-text-on-default-background: var(--sg-text-color, var(--theme-code-foreground, var(--jp-content-font-color1, black)));\n",
              "  --sklearn-color-background: var(--sg-background-color, var(--theme-background, var(--jp-layout-color0, white)));\n",
              "  --sklearn-color-border-box: var(--sg-text-color, var(--theme-code-foreground, var(--jp-content-font-color1, black)));\n",
              "  --sklearn-color-icon: #696969;\n",
              "\n",
              "  @media (prefers-color-scheme: dark) {\n",
              "    /* Redefinition of color scheme for dark theme */\n",
              "    --sklearn-color-text-on-default-background: var(--sg-text-color, var(--theme-code-foreground, var(--jp-content-font-color1, white)));\n",
              "    --sklearn-color-background: var(--sg-background-color, var(--theme-background, var(--jp-layout-color0, #111)));\n",
              "    --sklearn-color-border-box: var(--sg-text-color, var(--theme-code-foreground, var(--jp-content-font-color1, white)));\n",
              "    --sklearn-color-icon: #878787;\n",
              "  }\n",
              "}\n",
              "\n",
              "#sk-container-id-1 {\n",
              "  color: var(--sklearn-color-text);\n",
              "}\n",
              "\n",
              "#sk-container-id-1 pre {\n",
              "  padding: 0;\n",
              "}\n",
              "\n",
              "#sk-container-id-1 input.sk-hidden--visually {\n",
              "  border: 0;\n",
              "  clip: rect(1px 1px 1px 1px);\n",
              "  clip: rect(1px, 1px, 1px, 1px);\n",
              "  height: 1px;\n",
              "  margin: -1px;\n",
              "  overflow: hidden;\n",
              "  padding: 0;\n",
              "  position: absolute;\n",
              "  width: 1px;\n",
              "}\n",
              "\n",
              "#sk-container-id-1 div.sk-dashed-wrapped {\n",
              "  border: 1px dashed var(--sklearn-color-line);\n",
              "  margin: 0 0.4em 0.5em 0.4em;\n",
              "  box-sizing: border-box;\n",
              "  padding-bottom: 0.4em;\n",
              "  background-color: var(--sklearn-color-background);\n",
              "}\n",
              "\n",
              "#sk-container-id-1 div.sk-container {\n",
              "  /* jupyter's `normalize.less` sets `[hidden] { display: none; }`\n",
              "     but bootstrap.min.css set `[hidden] { display: none !important; }`\n",
              "     so we also need the `!important` here to be able to override the\n",
              "     default hidden behavior on the sphinx rendered scikit-learn.org.\n",
              "     See: https://github.com/scikit-learn/scikit-learn/issues/21755 */\n",
              "  display: inline-block !important;\n",
              "  position: relative;\n",
              "}\n",
              "\n",
              "#sk-container-id-1 div.sk-text-repr-fallback {\n",
              "  display: none;\n",
              "}\n",
              "\n",
              "div.sk-parallel-item,\n",
              "div.sk-serial,\n",
              "div.sk-item {\n",
              "  /* draw centered vertical line to link estimators */\n",
              "  background-image: linear-gradient(var(--sklearn-color-text-on-default-background), var(--sklearn-color-text-on-default-background));\n",
              "  background-size: 2px 100%;\n",
              "  background-repeat: no-repeat;\n",
              "  background-position: center center;\n",
              "}\n",
              "\n",
              "/* Parallel-specific style estimator block */\n",
              "\n",
              "#sk-container-id-1 div.sk-parallel-item::after {\n",
              "  content: \"\";\n",
              "  width: 100%;\n",
              "  border-bottom: 2px solid var(--sklearn-color-text-on-default-background);\n",
              "  flex-grow: 1;\n",
              "}\n",
              "\n",
              "#sk-container-id-1 div.sk-parallel {\n",
              "  display: flex;\n",
              "  align-items: stretch;\n",
              "  justify-content: center;\n",
              "  background-color: var(--sklearn-color-background);\n",
              "  position: relative;\n",
              "}\n",
              "\n",
              "#sk-container-id-1 div.sk-parallel-item {\n",
              "  display: flex;\n",
              "  flex-direction: column;\n",
              "}\n",
              "\n",
              "#sk-container-id-1 div.sk-parallel-item:first-child::after {\n",
              "  align-self: flex-end;\n",
              "  width: 50%;\n",
              "}\n",
              "\n",
              "#sk-container-id-1 div.sk-parallel-item:last-child::after {\n",
              "  align-self: flex-start;\n",
              "  width: 50%;\n",
              "}\n",
              "\n",
              "#sk-container-id-1 div.sk-parallel-item:only-child::after {\n",
              "  width: 0;\n",
              "}\n",
              "\n",
              "/* Serial-specific style estimator block */\n",
              "\n",
              "#sk-container-id-1 div.sk-serial {\n",
              "  display: flex;\n",
              "  flex-direction: column;\n",
              "  align-items: center;\n",
              "  background-color: var(--sklearn-color-background);\n",
              "  padding-right: 1em;\n",
              "  padding-left: 1em;\n",
              "}\n",
              "\n",
              "\n",
              "/* Toggleable style: style used for estimator/Pipeline/ColumnTransformer box that is\n",
              "clickable and can be expanded/collapsed.\n",
              "- Pipeline and ColumnTransformer use this feature and define the default style\n",
              "- Estimators will overwrite some part of the style using the `sk-estimator` class\n",
              "*/\n",
              "\n",
              "/* Pipeline and ColumnTransformer style (default) */\n",
              "\n",
              "#sk-container-id-1 div.sk-toggleable {\n",
              "  /* Default theme specific background. It is overwritten whether we have a\n",
              "  specific estimator or a Pipeline/ColumnTransformer */\n",
              "  background-color: var(--sklearn-color-background);\n",
              "}\n",
              "\n",
              "/* Toggleable label */\n",
              "#sk-container-id-1 label.sk-toggleable__label {\n",
              "  cursor: pointer;\n",
              "  display: flex;\n",
              "  width: 100%;\n",
              "  margin-bottom: 0;\n",
              "  padding: 0.5em;\n",
              "  box-sizing: border-box;\n",
              "  text-align: center;\n",
              "  align-items: start;\n",
              "  justify-content: space-between;\n",
              "  gap: 0.5em;\n",
              "}\n",
              "\n",
              "#sk-container-id-1 label.sk-toggleable__label .caption {\n",
              "  font-size: 0.6rem;\n",
              "  font-weight: lighter;\n",
              "  color: var(--sklearn-color-text-muted);\n",
              "}\n",
              "\n",
              "#sk-container-id-1 label.sk-toggleable__label-arrow:before {\n",
              "  /* Arrow on the left of the label */\n",
              "  content: \"▸\";\n",
              "  float: left;\n",
              "  margin-right: 0.25em;\n",
              "  color: var(--sklearn-color-icon);\n",
              "}\n",
              "\n",
              "#sk-container-id-1 label.sk-toggleable__label-arrow:hover:before {\n",
              "  color: var(--sklearn-color-text);\n",
              "}\n",
              "\n",
              "/* Toggleable content - dropdown */\n",
              "\n",
              "#sk-container-id-1 div.sk-toggleable__content {\n",
              "  max-height: 0;\n",
              "  max-width: 0;\n",
              "  overflow: hidden;\n",
              "  text-align: left;\n",
              "  /* unfitted */\n",
              "  background-color: var(--sklearn-color-unfitted-level-0);\n",
              "}\n",
              "\n",
              "#sk-container-id-1 div.sk-toggleable__content.fitted {\n",
              "  /* fitted */\n",
              "  background-color: var(--sklearn-color-fitted-level-0);\n",
              "}\n",
              "\n",
              "#sk-container-id-1 div.sk-toggleable__content pre {\n",
              "  margin: 0.2em;\n",
              "  border-radius: 0.25em;\n",
              "  color: var(--sklearn-color-text);\n",
              "  /* unfitted */\n",
              "  background-color: var(--sklearn-color-unfitted-level-0);\n",
              "}\n",
              "\n",
              "#sk-container-id-1 div.sk-toggleable__content.fitted pre {\n",
              "  /* unfitted */\n",
              "  background-color: var(--sklearn-color-fitted-level-0);\n",
              "}\n",
              "\n",
              "#sk-container-id-1 input.sk-toggleable__control:checked~div.sk-toggleable__content {\n",
              "  /* Expand drop-down */\n",
              "  max-height: 200px;\n",
              "  max-width: 100%;\n",
              "  overflow: auto;\n",
              "}\n",
              "\n",
              "#sk-container-id-1 input.sk-toggleable__control:checked~label.sk-toggleable__label-arrow:before {\n",
              "  content: \"▾\";\n",
              "}\n",
              "\n",
              "/* Pipeline/ColumnTransformer-specific style */\n",
              "\n",
              "#sk-container-id-1 div.sk-label input.sk-toggleable__control:checked~label.sk-toggleable__label {\n",
              "  color: var(--sklearn-color-text);\n",
              "  background-color: var(--sklearn-color-unfitted-level-2);\n",
              "}\n",
              "\n",
              "#sk-container-id-1 div.sk-label.fitted input.sk-toggleable__control:checked~label.sk-toggleable__label {\n",
              "  background-color: var(--sklearn-color-fitted-level-2);\n",
              "}\n",
              "\n",
              "/* Estimator-specific style */\n",
              "\n",
              "/* Colorize estimator box */\n",
              "#sk-container-id-1 div.sk-estimator input.sk-toggleable__control:checked~label.sk-toggleable__label {\n",
              "  /* unfitted */\n",
              "  background-color: var(--sklearn-color-unfitted-level-2);\n",
              "}\n",
              "\n",
              "#sk-container-id-1 div.sk-estimator.fitted input.sk-toggleable__control:checked~label.sk-toggleable__label {\n",
              "  /* fitted */\n",
              "  background-color: var(--sklearn-color-fitted-level-2);\n",
              "}\n",
              "\n",
              "#sk-container-id-1 div.sk-label label.sk-toggleable__label,\n",
              "#sk-container-id-1 div.sk-label label {\n",
              "  /* The background is the default theme color */\n",
              "  color: var(--sklearn-color-text-on-default-background);\n",
              "}\n",
              "\n",
              "/* On hover, darken the color of the background */\n",
              "#sk-container-id-1 div.sk-label:hover label.sk-toggleable__label {\n",
              "  color: var(--sklearn-color-text);\n",
              "  background-color: var(--sklearn-color-unfitted-level-2);\n",
              "}\n",
              "\n",
              "/* Label box, darken color on hover, fitted */\n",
              "#sk-container-id-1 div.sk-label.fitted:hover label.sk-toggleable__label.fitted {\n",
              "  color: var(--sklearn-color-text);\n",
              "  background-color: var(--sklearn-color-fitted-level-2);\n",
              "}\n",
              "\n",
              "/* Estimator label */\n",
              "\n",
              "#sk-container-id-1 div.sk-label label {\n",
              "  font-family: monospace;\n",
              "  font-weight: bold;\n",
              "  display: inline-block;\n",
              "  line-height: 1.2em;\n",
              "}\n",
              "\n",
              "#sk-container-id-1 div.sk-label-container {\n",
              "  text-align: center;\n",
              "}\n",
              "\n",
              "/* Estimator-specific */\n",
              "#sk-container-id-1 div.sk-estimator {\n",
              "  font-family: monospace;\n",
              "  border: 1px dotted var(--sklearn-color-border-box);\n",
              "  border-radius: 0.25em;\n",
              "  box-sizing: border-box;\n",
              "  margin-bottom: 0.5em;\n",
              "  /* unfitted */\n",
              "  background-color: var(--sklearn-color-unfitted-level-0);\n",
              "}\n",
              "\n",
              "#sk-container-id-1 div.sk-estimator.fitted {\n",
              "  /* fitted */\n",
              "  background-color: var(--sklearn-color-fitted-level-0);\n",
              "}\n",
              "\n",
              "/* on hover */\n",
              "#sk-container-id-1 div.sk-estimator:hover {\n",
              "  /* unfitted */\n",
              "  background-color: var(--sklearn-color-unfitted-level-2);\n",
              "}\n",
              "\n",
              "#sk-container-id-1 div.sk-estimator.fitted:hover {\n",
              "  /* fitted */\n",
              "  background-color: var(--sklearn-color-fitted-level-2);\n",
              "}\n",
              "\n",
              "/* Specification for estimator info (e.g. \"i\" and \"?\") */\n",
              "\n",
              "/* Common style for \"i\" and \"?\" */\n",
              "\n",
              ".sk-estimator-doc-link,\n",
              "a:link.sk-estimator-doc-link,\n",
              "a:visited.sk-estimator-doc-link {\n",
              "  float: right;\n",
              "  font-size: smaller;\n",
              "  line-height: 1em;\n",
              "  font-family: monospace;\n",
              "  background-color: var(--sklearn-color-background);\n",
              "  border-radius: 1em;\n",
              "  height: 1em;\n",
              "  width: 1em;\n",
              "  text-decoration: none !important;\n",
              "  margin-left: 0.5em;\n",
              "  text-align: center;\n",
              "  /* unfitted */\n",
              "  border: var(--sklearn-color-unfitted-level-1) 1pt solid;\n",
              "  color: var(--sklearn-color-unfitted-level-1);\n",
              "}\n",
              "\n",
              ".sk-estimator-doc-link.fitted,\n",
              "a:link.sk-estimator-doc-link.fitted,\n",
              "a:visited.sk-estimator-doc-link.fitted {\n",
              "  /* fitted */\n",
              "  border: var(--sklearn-color-fitted-level-1) 1pt solid;\n",
              "  color: var(--sklearn-color-fitted-level-1);\n",
              "}\n",
              "\n",
              "/* On hover */\n",
              "div.sk-estimator:hover .sk-estimator-doc-link:hover,\n",
              ".sk-estimator-doc-link:hover,\n",
              "div.sk-label-container:hover .sk-estimator-doc-link:hover,\n",
              ".sk-estimator-doc-link:hover {\n",
              "  /* unfitted */\n",
              "  background-color: var(--sklearn-color-unfitted-level-3);\n",
              "  color: var(--sklearn-color-background);\n",
              "  text-decoration: none;\n",
              "}\n",
              "\n",
              "div.sk-estimator.fitted:hover .sk-estimator-doc-link.fitted:hover,\n",
              ".sk-estimator-doc-link.fitted:hover,\n",
              "div.sk-label-container:hover .sk-estimator-doc-link.fitted:hover,\n",
              ".sk-estimator-doc-link.fitted:hover {\n",
              "  /* fitted */\n",
              "  background-color: var(--sklearn-color-fitted-level-3);\n",
              "  color: var(--sklearn-color-background);\n",
              "  text-decoration: none;\n",
              "}\n",
              "\n",
              "/* Span, style for the box shown on hovering the info icon */\n",
              ".sk-estimator-doc-link span {\n",
              "  display: none;\n",
              "  z-index: 9999;\n",
              "  position: relative;\n",
              "  font-weight: normal;\n",
              "  right: .2ex;\n",
              "  padding: .5ex;\n",
              "  margin: .5ex;\n",
              "  width: min-content;\n",
              "  min-width: 20ex;\n",
              "  max-width: 50ex;\n",
              "  color: var(--sklearn-color-text);\n",
              "  box-shadow: 2pt 2pt 4pt #999;\n",
              "  /* unfitted */\n",
              "  background: var(--sklearn-color-unfitted-level-0);\n",
              "  border: .5pt solid var(--sklearn-color-unfitted-level-3);\n",
              "}\n",
              "\n",
              ".sk-estimator-doc-link.fitted span {\n",
              "  /* fitted */\n",
              "  background: var(--sklearn-color-fitted-level-0);\n",
              "  border: var(--sklearn-color-fitted-level-3);\n",
              "}\n",
              "\n",
              ".sk-estimator-doc-link:hover span {\n",
              "  display: block;\n",
              "}\n",
              "\n",
              "/* \"?\"-specific style due to the `<a>` HTML tag */\n",
              "\n",
              "#sk-container-id-1 a.estimator_doc_link {\n",
              "  float: right;\n",
              "  font-size: 1rem;\n",
              "  line-height: 1em;\n",
              "  font-family: monospace;\n",
              "  background-color: var(--sklearn-color-background);\n",
              "  border-radius: 1rem;\n",
              "  height: 1rem;\n",
              "  width: 1rem;\n",
              "  text-decoration: none;\n",
              "  /* unfitted */\n",
              "  color: var(--sklearn-color-unfitted-level-1);\n",
              "  border: var(--sklearn-color-unfitted-level-1) 1pt solid;\n",
              "}\n",
              "\n",
              "#sk-container-id-1 a.estimator_doc_link.fitted {\n",
              "  /* fitted */\n",
              "  border: var(--sklearn-color-fitted-level-1) 1pt solid;\n",
              "  color: var(--sklearn-color-fitted-level-1);\n",
              "}\n",
              "\n",
              "/* On hover */\n",
              "#sk-container-id-1 a.estimator_doc_link:hover {\n",
              "  /* unfitted */\n",
              "  background-color: var(--sklearn-color-unfitted-level-3);\n",
              "  color: var(--sklearn-color-background);\n",
              "  text-decoration: none;\n",
              "}\n",
              "\n",
              "#sk-container-id-1 a.estimator_doc_link.fitted:hover {\n",
              "  /* fitted */\n",
              "  background-color: var(--sklearn-color-fitted-level-3);\n",
              "}\n",
              "</style><div id=\"sk-container-id-1\" class=\"sk-top-container\"><div class=\"sk-text-repr-fallback\"><pre>LinearRegression()</pre><b>In a Jupyter environment, please rerun this cell to show the HTML representation or trust the notebook. <br />On GitHub, the HTML representation is unable to render, please try loading this page with nbviewer.org.</b></div><div class=\"sk-container\" hidden><div class=\"sk-item\"><div class=\"sk-estimator fitted sk-toggleable\"><input class=\"sk-toggleable__control sk-hidden--visually\" id=\"sk-estimator-id-1\" type=\"checkbox\" checked><label for=\"sk-estimator-id-1\" class=\"sk-toggleable__label fitted sk-toggleable__label-arrow\"><div><div>LinearRegression</div></div><div><a class=\"sk-estimator-doc-link fitted\" rel=\"noreferrer\" target=\"_blank\" href=\"https://scikit-learn.org/1.6/modules/generated/sklearn.linear_model.LinearRegression.html\">?<span>Documentation for LinearRegression</span></a><span class=\"sk-estimator-doc-link fitted\">i<span>Fitted</span></span></div></label><div class=\"sk-toggleable__content fitted\"><pre>LinearRegression()</pre></div> </div></div></div></div>"
            ]
          },
          "metadata": {},
          "execution_count": 4
        }
      ]
    },
    {
      "cell_type": "markdown",
      "source": [
        "Make Predictions:"
      ],
      "metadata": {
        "id": "CzP1UKdHhmUs"
      }
    },
    {
      "cell_type": "code",
      "source": [
        "y_pred = model.predict(X_poly)"
      ],
      "metadata": {
        "id": "ocnzo2CihrAJ"
      },
      "execution_count": null,
      "outputs": []
    },
    {
      "cell_type": "markdown",
      "source": [
        "Visualize the Results:"
      ],
      "metadata": {
        "id": "kIOXrI3ihsZb"
      }
    },
    {
      "cell_type": "code",
      "source": [
        "plt.scatter(X, y, color='blue', label='Original Data')\n",
        "plt.plot(X, y_pred, color='red', label='Polynomial Fit')\n",
        "plt.xlabel('X')\n",
        "plt.ylabel('y')\n",
        "plt.legend()\n",
        "plt.show()"
      ],
      "metadata": {
        "id": "v94wUPpXhvEc",
        "colab": {
          "base_uri": "https://localhost:8080/",
          "height": 449
        },
        "outputId": "ca7420c3-9cc1-4d83-c1fd-84d48669e2f1"
      },
      "execution_count": null,
      "outputs": [
        {
          "output_type": "display_data",
          "data": {
            "text/plain": [
              "<Figure size 640x480 with 1 Axes>"
            ],
            "image/png": "[encoded data removed]"
          },
          "metadata": {}
        }
      ]
    }
  ]
}